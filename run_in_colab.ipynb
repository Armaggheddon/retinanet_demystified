{
 "cells": [
  {
   "cell_type": "markdown",
   "id": "eb836d12",
   "metadata": {},
   "source": [
    "<img src=\"https://github.com/Armaggheddon/retinanet_demystified/raw/main/.github/cover_image.png\" width=\"800\"/>\n"
   ]
  },
  {
   "cell_type": "markdown",
   "id": "13d6b818",
   "metadata": {},
   "source": [
    "# RetinaNet Demystified: Run in Colab!\n",
    "\n",
    "Welcome! This notebook provides a simple way to run the entire training and inference pipeline for this RetinaNet implementation using Google Colab.\n",
    "\n",
    "We'll walk through the same steps outlined in the `README.md`:\n",
    "1.  Install dependencies.\n",
    "2.  Download the dataset.\n",
    "3.  Train the model.\n",
    "4.  Run inference on a test image.\n",
    "\n",
    "Let's get started!\n",
    "### **Step 1: Clone the Project, Install Dependencies and get the data**\n",
    "\n",
    "First, let's clone the `retinanet_demystified` repository from GitHub and move into the project directory. Then, we'll install all the Python packages required for this project using the `requirements.txt` file. And finally, we'll clone the Raccoon dataset repository to get our training data."
   ]
  },
  {
   "cell_type": "code",
   "execution_count": null,
   "id": "5f731ff8",
   "metadata": {},
   "outputs": [],
   "source": [
    "!git clone https://github.com/armaggheddon/retinanet_demystified.git\n",
    "%cd retinanet_demystified\n",
    "!pip install -r requirements.txt \n",
    "!git clone https://github.com/datitran/raccoon_dataset"
   ]
  },
  {
   "cell_type": "markdown",
   "id": "69cd94bd",
   "metadata": {},
   "source": [
    "***\n",
    "### **Step 3: Train the Model!**\n",
    "\n",
    "This is the main event! The `train.py` script will:\n",
    "- Build the RetinaNet model with a ResNet backbone.\n",
    "- Load the Raccoon dataset we just downloaded.\n",
    "- Start the training process.\n",
    "\n",
    "This will take a few minutes, so it's a great time to grab a coffee ☕. The script will print the loss for each epoch, and once finished, the trained model weights will be saved as `retinanet_raccoon_rnXX.pth`, by default a ResNet18 backbone is used."
   ]
  },
  {
   "cell_type": "code",
   "execution_count": null,
   "id": "8caf44cf",
   "metadata": {},
   "outputs": [],
   "source": [
    "!python3 train.py"
   ]
  },
  {
   "cell_type": "markdown",
   "id": "ceada95a",
   "metadata": {},
   "source": [
    "***\n",
    "### **Step 4: Run Inference and See the Results**\n",
    "\n",
    "With our model trained, let's see it in action! The `load_trained.py` script loads the weights we just saved and runs the model on a test image from the dataset. It will save the result as `output.png`."
   ]
  },
  {
   "cell_type": "code",
   "execution_count": 3,
   "id": "7e96861c",
   "metadata": {},
   "outputs": [
    {
     "name": "stdout",
     "output_type": "stream",
     "text": [
      "Label: 1, Score: 1.000, Box: [ 26  57 183 219]\n"
     ]
    },
    {
     "data": {
      "image/jpeg": "[encoded data removed]",
      "text/plain": [
       "<IPython.core.display.Image object>"
      ]
     },
     "execution_count": 3,
     "metadata": {},
     "output_type": "execute_result"
    }
   ],
   "source": [
    "!python3 load_trained.py\n",
    "\n",
    "from IPython.display import Image\n",
    "Image(\"model_detections.jpg\")"
   ]
  },
  {
   "cell_type": "markdown",
   "id": "d9f1fc0a",
   "metadata": {},
   "source": [
    "***\n",
    "## That's a Wrap!\n",
    "\n",
    "And there you have it! The image above should show the original raccoon picture with bounding boxes drawn by your newly trained model.\n",
    "\n",
    "Feel free to explore the code, tweak the hyperparameters in `train.py`, or try running inference on different images. Happy coding!"
   ]
  }
 ],
 "metadata": {
  "kernelspec": {
   "display_name": ".venv",
   "language": "python",
   "name": "python3"
  },
  "language_info": {
   "codemirror_mode": {
    "name": "ipython",
    "version": 3
   },
   "file_extension": ".py",
   "mimetype": "text/x-python",
   "name": "python",
   "nbconvert_exporter": "python",
   "pygments_lexer": "ipython3",
   "version": "3.10.12"
  }
 },
 "nbformat": 4,
 "nbformat_minor": 5
}
